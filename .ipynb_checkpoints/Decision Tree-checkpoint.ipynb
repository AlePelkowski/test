{
 "cells": [
  {
   "cell_type": "code",
   "execution_count": 114,
   "id": "b4037061",
   "metadata": {},
   "outputs": [],
   "source": [
    "import numpy as np\n",
    "import pandas as pd\n",
    "import os\n",
    "import graphviz\n",
    "\n",
    "import sklearn\n",
    "from scipy import stats\n",
    "from sklearn.metrics import accuracy_score\n",
    "from sklearn.model_selection import train_test_split\n",
    "from sklearn import metrics\n",
    "from sklearn import tree\n",
    "from sklearn.tree import DecisionTreeClassifier\n",
    "\n",
    "import matplotlib.pyplot as plt\n",
    "import seaborn as sns"
   ]
  },
  {
   "cell_type": "code",
   "execution_count": 115,
   "id": "1cdbb8b4",
   "metadata": {},
   "outputs": [
    {
     "name": "stdout",
     "output_type": "stream",
     "text": [
      "C:\\Users\\Ale P\\Documents\\microbiomeproject\n",
      "C:\\Users\\Ale P\\Documents\\microbiomeproject/Data\n"
     ]
    }
   ],
   "source": [
    "basedir = os.getcwd()\n",
    "datadir = basedir + '/Data'\n",
    "\n",
    "print(basedir)\n",
    "print(datadir)"
   ]
  },
  {
   "cell_type": "code",
   "execution_count": 116,
   "id": "386e9e46",
   "metadata": {},
   "outputs": [
    {
     "data": {
      "text/plain": [
       "['features_processed.csv',\n",
       " 'labels_processed.csv',\n",
       " 'microbiome_data.csv',\n",
       " 'otu_annotation.csv',\n",
       " 'sample_desc_deid.csv',\n",
       " 'X_processed.csv',\n",
       " 'y2_processed.csv',\n",
       " 'y_processed.csv']"
      ]
     },
     "execution_count": 116,
     "metadata": {},
     "output_type": "execute_result"
    }
   ],
   "source": [
    "os.listdir(datadir)"
   ]
  },
  {
   "cell_type": "code",
   "execution_count": 117,
   "id": "20e34afe",
   "metadata": {},
   "outputs": [],
   "source": [
    "features = pd.read_csv(datadir + '/features_processed.csv', index_col = 0)\n",
    "labels = pd.read_csv(datadir + '/labels_processed.csv', index_col = 0)"
   ]
  },
  {
   "cell_type": "code",
   "execution_count": 118,
   "id": "dcf0ac41",
   "metadata": {},
   "outputs": [
    {
     "data": {
      "text/html": [
       "<div>\n",
       "<style scoped>\n",
       "    .dataframe tbody tr th:only-of-type {\n",
       "        vertical-align: middle;\n",
       "    }\n",
       "\n",
       "    .dataframe tbody tr th {\n",
       "        vertical-align: top;\n",
       "    }\n",
       "\n",
       "    .dataframe thead th {\n",
       "        text-align: right;\n",
       "    }\n",
       "</style>\n",
       "<table border=\"1\" class=\"dataframe\">\n",
       "  <thead>\n",
       "    <tr style=\"text-align: right;\">\n",
       "      <th></th>\n",
       "      <th>SubjectID</th>\n",
       "      <th>#SampleID</th>\n",
       "      <th>BodySite</th>\n",
       "      <th>Preterm</th>\n",
       "    </tr>\n",
       "  </thead>\n",
       "  <tbody>\n",
       "    <tr>\n",
       "      <th>1</th>\n",
       "      <td>10005</td>\n",
       "      <td>1000501278</td>\n",
       "      <td>Vaginal_Swab</td>\n",
       "      <td>0</td>\n",
       "    </tr>\n",
       "    <tr>\n",
       "      <th>6</th>\n",
       "      <td>10003</td>\n",
       "      <td>1000301298</td>\n",
       "      <td>Vaginal_Swab</td>\n",
       "      <td>0</td>\n",
       "    </tr>\n",
       "    <tr>\n",
       "      <th>7</th>\n",
       "      <td>10003</td>\n",
       "      <td>1000301308</td>\n",
       "      <td>Vaginal_Swab</td>\n",
       "      <td>0</td>\n",
       "    </tr>\n",
       "    <tr>\n",
       "      <th>8</th>\n",
       "      <td>10003</td>\n",
       "      <td>1000301318</td>\n",
       "      <td>Vaginal_Swab</td>\n",
       "      <td>0</td>\n",
       "    </tr>\n",
       "    <tr>\n",
       "      <th>9</th>\n",
       "      <td>10004</td>\n",
       "      <td>1000401368</td>\n",
       "      <td>Vaginal_Swab</td>\n",
       "      <td>0</td>\n",
       "    </tr>\n",
       "    <tr>\n",
       "      <th>...</th>\n",
       "      <td>...</td>\n",
       "      <td>...</td>\n",
       "      <td>...</td>\n",
       "      <td>...</td>\n",
       "    </tr>\n",
       "    <tr>\n",
       "      <th>4396</th>\n",
       "      <td>10046</td>\n",
       "      <td>1004604448.rs</td>\n",
       "      <td>Tooth_Gum</td>\n",
       "      <td>0</td>\n",
       "    </tr>\n",
       "    <tr>\n",
       "      <th>4397</th>\n",
       "      <td>10101</td>\n",
       "      <td>1010104488.rs</td>\n",
       "      <td>Tooth_Gum</td>\n",
       "      <td>1</td>\n",
       "    </tr>\n",
       "    <tr>\n",
       "      <th>4398</th>\n",
       "      <td>10024</td>\n",
       "      <td>1002402218.ca2.rs</td>\n",
       "      <td>Stool</td>\n",
       "      <td>0</td>\n",
       "    </tr>\n",
       "    <tr>\n",
       "      <th>4399</th>\n",
       "      <td>10023</td>\n",
       "      <td>1002302248.bn1.rs</td>\n",
       "      <td>Stool</td>\n",
       "      <td>0</td>\n",
       "    </tr>\n",
       "    <tr>\n",
       "      <th>4400</th>\n",
       "      <td>10021</td>\n",
       "      <td>1002102208.ak2.rs</td>\n",
       "      <td>Stool</td>\n",
       "      <td>0</td>\n",
       "    </tr>\n",
       "  </tbody>\n",
       "</table>\n",
       "<p>3881 rows × 4 columns</p>\n",
       "</div>"
      ],
      "text/plain": [
       "      SubjectID          #SampleID      BodySite  Preterm\n",
       "1         10005         1000501278  Vaginal_Swab        0\n",
       "6         10003         1000301298  Vaginal_Swab        0\n",
       "7         10003         1000301308  Vaginal_Swab        0\n",
       "8         10003         1000301318  Vaginal_Swab        0\n",
       "9         10004         1000401368  Vaginal_Swab        0\n",
       "...         ...                ...           ...      ...\n",
       "4396      10046      1004604448.rs     Tooth_Gum        0\n",
       "4397      10101      1010104488.rs     Tooth_Gum        1\n",
       "4398      10024  1002402218.ca2.rs         Stool        0\n",
       "4399      10023  1002302248.bn1.rs         Stool        0\n",
       "4400      10021  1002102208.ak2.rs         Stool        0\n",
       "\n",
       "[3881 rows x 4 columns]"
      ]
     },
     "execution_count": 118,
     "metadata": {},
     "output_type": "execute_result"
    }
   ],
   "source": [
    "labels"
   ]
  },
  {
   "cell_type": "code",
   "execution_count": 119,
   "id": "cc97ab9a",
   "metadata": {},
   "outputs": [
    {
     "data": {
      "text/html": [
       "<div>\n",
       "<style scoped>\n",
       "    .dataframe tbody tr th:only-of-type {\n",
       "        vertical-align: middle;\n",
       "    }\n",
       "\n",
       "    .dataframe tbody tr th {\n",
       "        vertical-align: top;\n",
       "    }\n",
       "\n",
       "    .dataframe thead th {\n",
       "        text-align: right;\n",
       "    }\n",
       "</style>\n",
       "<table border=\"1\" class=\"dataframe\">\n",
       "  <thead>\n",
       "    <tr style=\"text-align: right;\">\n",
       "      <th></th>\n",
       "      <th>SubjectID</th>\n",
       "      <th>#SampleID</th>\n",
       "      <th>BodySite</th>\n",
       "      <th>History_of_preterm_delivery</th>\n",
       "      <th>GestWeekdel</th>\n",
       "      <th>PPROM</th>\n",
       "      <th>Hypertensive Disorder</th>\n",
       "      <th>Preeclampsia</th>\n",
       "      <th>Number_of_babies</th>\n",
       "      <th>Mean_OTU</th>\n",
       "      <th>unique_OTU</th>\n",
       "      <th>shannon_div</th>\n",
       "      <th>standard_dev</th>\n",
       "      <th>Preterm</th>\n",
       "    </tr>\n",
       "  </thead>\n",
       "  <tbody>\n",
       "    <tr>\n",
       "      <th>1</th>\n",
       "      <td>10005</td>\n",
       "      <td>1000501278</td>\n",
       "      <td>Vaginal_Swab</td>\n",
       "      <td>0.0</td>\n",
       "      <td>40.0</td>\n",
       "      <td>0.0</td>\n",
       "      <td>1.0</td>\n",
       "      <td>0.0</td>\n",
       "      <td>1.0</td>\n",
       "      <td>50.550000</td>\n",
       "      <td>16</td>\n",
       "      <td>0.021199</td>\n",
       "      <td>25.550941</td>\n",
       "      <td>0</td>\n",
       "    </tr>\n",
       "    <tr>\n",
       "      <th>6</th>\n",
       "      <td>10003</td>\n",
       "      <td>1000301298</td>\n",
       "      <td>Vaginal_Swab</td>\n",
       "      <td>1.0</td>\n",
       "      <td>38.0</td>\n",
       "      <td>0.0</td>\n",
       "      <td>1.0</td>\n",
       "      <td>0.0</td>\n",
       "      <td>1.0</td>\n",
       "      <td>59.980769</td>\n",
       "      <td>17</td>\n",
       "      <td>0.037150</td>\n",
       "      <td>51.114763</td>\n",
       "      <td>0</td>\n",
       "    </tr>\n",
       "    <tr>\n",
       "      <th>7</th>\n",
       "      <td>10003</td>\n",
       "      <td>1000301308</td>\n",
       "      <td>Vaginal_Swab</td>\n",
       "      <td>1.0</td>\n",
       "      <td>38.0</td>\n",
       "      <td>0.0</td>\n",
       "      <td>1.0</td>\n",
       "      <td>0.0</td>\n",
       "      <td>1.0</td>\n",
       "      <td>59.980769</td>\n",
       "      <td>12</td>\n",
       "      <td>0.020697</td>\n",
       "      <td>24.790647</td>\n",
       "      <td>0</td>\n",
       "    </tr>\n",
       "    <tr>\n",
       "      <th>8</th>\n",
       "      <td>10003</td>\n",
       "      <td>1000301318</td>\n",
       "      <td>Vaginal_Swab</td>\n",
       "      <td>1.0</td>\n",
       "      <td>38.0</td>\n",
       "      <td>0.0</td>\n",
       "      <td>1.0</td>\n",
       "      <td>0.0</td>\n",
       "      <td>1.0</td>\n",
       "      <td>59.980769</td>\n",
       "      <td>23</td>\n",
       "      <td>0.038345</td>\n",
       "      <td>50.092526</td>\n",
       "      <td>0</td>\n",
       "    </tr>\n",
       "    <tr>\n",
       "      <th>9</th>\n",
       "      <td>10004</td>\n",
       "      <td>1000401368</td>\n",
       "      <td>Vaginal_Swab</td>\n",
       "      <td>0.0</td>\n",
       "      <td>40.0</td>\n",
       "      <td>0.0</td>\n",
       "      <td>0.0</td>\n",
       "      <td>0.0</td>\n",
       "      <td>1.0</td>\n",
       "      <td>68.370370</td>\n",
       "      <td>30</td>\n",
       "      <td>0.030563</td>\n",
       "      <td>30.201347</td>\n",
       "      <td>0</td>\n",
       "    </tr>\n",
       "    <tr>\n",
       "      <th>...</th>\n",
       "      <td>...</td>\n",
       "      <td>...</td>\n",
       "      <td>...</td>\n",
       "      <td>...</td>\n",
       "      <td>...</td>\n",
       "      <td>...</td>\n",
       "      <td>...</td>\n",
       "      <td>...</td>\n",
       "      <td>...</td>\n",
       "      <td>...</td>\n",
       "      <td>...</td>\n",
       "      <td>...</td>\n",
       "      <td>...</td>\n",
       "      <td>...</td>\n",
       "    </tr>\n",
       "    <tr>\n",
       "      <th>4396</th>\n",
       "      <td>10046</td>\n",
       "      <td>1004604448.rs</td>\n",
       "      <td>Tooth_Gum</td>\n",
       "      <td>0.0</td>\n",
       "      <td>40.0</td>\n",
       "      <td>0.0</td>\n",
       "      <td>0.0</td>\n",
       "      <td>0.0</td>\n",
       "      <td>1.0</td>\n",
       "      <td>83.692810</td>\n",
       "      <td>97</td>\n",
       "      <td>0.088239</td>\n",
       "      <td>32.568406</td>\n",
       "      <td>0</td>\n",
       "    </tr>\n",
       "    <tr>\n",
       "      <th>4397</th>\n",
       "      <td>10101</td>\n",
       "      <td>1010104488.rs</td>\n",
       "      <td>Tooth_Gum</td>\n",
       "      <td>1.0</td>\n",
       "      <td>37.0</td>\n",
       "      <td>1.0</td>\n",
       "      <td>0.0</td>\n",
       "      <td>0.0</td>\n",
       "      <td>1.0</td>\n",
       "      <td>89.315534</td>\n",
       "      <td>81</td>\n",
       "      <td>0.063389</td>\n",
       "      <td>19.547182</td>\n",
       "      <td>1</td>\n",
       "    </tr>\n",
       "    <tr>\n",
       "      <th>4398</th>\n",
       "      <td>10024</td>\n",
       "      <td>1002402218.ca2.rs</td>\n",
       "      <td>Stool</td>\n",
       "      <td>0.0</td>\n",
       "      <td>38.0</td>\n",
       "      <td>0.0</td>\n",
       "      <td>3.0</td>\n",
       "      <td>0.0</td>\n",
       "      <td>1.0</td>\n",
       "      <td>67.545455</td>\n",
       "      <td>81</td>\n",
       "      <td>0.081020</td>\n",
       "      <td>30.734053</td>\n",
       "      <td>0</td>\n",
       "    </tr>\n",
       "    <tr>\n",
       "      <th>4399</th>\n",
       "      <td>10023</td>\n",
       "      <td>1002302248.bn1.rs</td>\n",
       "      <td>Stool</td>\n",
       "      <td>0.0</td>\n",
       "      <td>40.0</td>\n",
       "      <td>0.0</td>\n",
       "      <td>0.0</td>\n",
       "      <td>0.0</td>\n",
       "      <td>1.0</td>\n",
       "      <td>81.754839</td>\n",
       "      <td>178</td>\n",
       "      <td>0.093405</td>\n",
       "      <td>17.526890</td>\n",
       "      <td>0</td>\n",
       "    </tr>\n",
       "    <tr>\n",
       "      <th>4400</th>\n",
       "      <td>10021</td>\n",
       "      <td>1002102208.ak2.rs</td>\n",
       "      <td>Stool</td>\n",
       "      <td>0.0</td>\n",
       "      <td>41.0</td>\n",
       "      <td>0.0</td>\n",
       "      <td>0.0</td>\n",
       "      <td>0.0</td>\n",
       "      <td>1.0</td>\n",
       "      <td>89.358974</td>\n",
       "      <td>10</td>\n",
       "      <td>0.000444</td>\n",
       "      <td>0.097255</td>\n",
       "      <td>0</td>\n",
       "    </tr>\n",
       "  </tbody>\n",
       "</table>\n",
       "<p>3881 rows × 14 columns</p>\n",
       "</div>"
      ],
      "text/plain": [
       "      SubjectID          #SampleID      BodySite  History_of_preterm_delivery  \\\n",
       "1         10005         1000501278  Vaginal_Swab                          0.0   \n",
       "6         10003         1000301298  Vaginal_Swab                          1.0   \n",
       "7         10003         1000301308  Vaginal_Swab                          1.0   \n",
       "8         10003         1000301318  Vaginal_Swab                          1.0   \n",
       "9         10004         1000401368  Vaginal_Swab                          0.0   \n",
       "...         ...                ...           ...                          ...   \n",
       "4396      10046      1004604448.rs     Tooth_Gum                          0.0   \n",
       "4397      10101      1010104488.rs     Tooth_Gum                          1.0   \n",
       "4398      10024  1002402218.ca2.rs         Stool                          0.0   \n",
       "4399      10023  1002302248.bn1.rs         Stool                          0.0   \n",
       "4400      10021  1002102208.ak2.rs         Stool                          0.0   \n",
       "\n",
       "      GestWeekdel  PPROM  Hypertensive Disorder  Preeclampsia  \\\n",
       "1            40.0    0.0                    1.0           0.0   \n",
       "6            38.0    0.0                    1.0           0.0   \n",
       "7            38.0    0.0                    1.0           0.0   \n",
       "8            38.0    0.0                    1.0           0.0   \n",
       "9            40.0    0.0                    0.0           0.0   \n",
       "...           ...    ...                    ...           ...   \n",
       "4396         40.0    0.0                    0.0           0.0   \n",
       "4397         37.0    1.0                    0.0           0.0   \n",
       "4398         38.0    0.0                    3.0           0.0   \n",
       "4399         40.0    0.0                    0.0           0.0   \n",
       "4400         41.0    0.0                    0.0           0.0   \n",
       "\n",
       "      Number_of_babies   Mean_OTU  unique_OTU  shannon_div  standard_dev  \\\n",
       "1                  1.0  50.550000          16     0.021199     25.550941   \n",
       "6                  1.0  59.980769          17     0.037150     51.114763   \n",
       "7                  1.0  59.980769          12     0.020697     24.790647   \n",
       "8                  1.0  59.980769          23     0.038345     50.092526   \n",
       "9                  1.0  68.370370          30     0.030563     30.201347   \n",
       "...                ...        ...         ...          ...           ...   \n",
       "4396               1.0  83.692810          97     0.088239     32.568406   \n",
       "4397               1.0  89.315534          81     0.063389     19.547182   \n",
       "4398               1.0  67.545455          81     0.081020     30.734053   \n",
       "4399               1.0  81.754839         178     0.093405     17.526890   \n",
       "4400               1.0  89.358974          10     0.000444      0.097255   \n",
       "\n",
       "      Preterm  \n",
       "1           0  \n",
       "6           0  \n",
       "7           0  \n",
       "8           0  \n",
       "9           0  \n",
       "...       ...  \n",
       "4396        0  \n",
       "4397        1  \n",
       "4398        0  \n",
       "4399        0  \n",
       "4400        0  \n",
       "\n",
       "[3881 rows x 14 columns]"
      ]
     },
     "execution_count": 119,
     "metadata": {},
     "output_type": "execute_result"
    }
   ],
   "source": [
    "features"
   ]
  },
  {
   "cell_type": "code",
   "execution_count": 120,
   "id": "1ab58a3b",
   "metadata": {},
   "outputs": [],
   "source": [
    "from sklearn.tree import DecisionTreeClassifier\n",
    "\n",
    "y = labels['Preterm']\n",
    "X = features[['Mean_OTU']]\n",
    "\n",
    "X_train, X_test, y_train, y_test = train_test_split(X, y, test_size=0.20)"
   ]
  },
  {
   "cell_type": "code",
   "execution_count": 121,
   "id": "90889978",
   "metadata": {},
   "outputs": [],
   "source": [
    "# This is where we set our machine learning algorithm type - Decision Tree\n",
    "dectree = DecisionTreeClassifier(criterion='entropy',random_state=0, max_depth = 4) \n",
    "dectree.fit(X_train,y_train.values.ravel())\n",
    "\n",
    "# Use the model to make predictions using our testing input data\n",
    "y_pred_dectree = dectree.predict(X_test)"
   ]
  },
  {
   "cell_type": "code",
   "execution_count": 122,
   "id": "1a086ba6",
   "metadata": {},
   "outputs": [],
   "source": [
    "#print decision tree\n",
    "\n",
    "dot_data = tree.export_graphviz(dectree,out_file=None,feature_names=X.columns,class_names=['Not Preterm','Preterm'])\n",
    "graph = graphviz.Source(dot_data)\n",
    "graph.render(\"image\",view=True)\n",
    "f = open(basedir + \"/figures/OTUtree.txt\",\"w+\")\n",
    "f.write(dot_data)\n",
    "f.close()"
   ]
  },
  {
   "cell_type": "code",
   "execution_count": 123,
   "id": "0f413ede",
   "metadata": {},
   "outputs": [
    {
     "name": "stdout",
     "output_type": "stream",
     "text": [
      "Accuracy:  85.07078507078506\n"
     ]
    }
   ],
   "source": [
    "# Calculate the accuracy of the model as a percent\n",
    "accuracy = metrics.accuracy_score(y_test, y_pred_dectree)\n",
    "accuracy_percentage = 100 * accuracy\n",
    "print('Accuracy: ',accuracy_percentage)"
   ]
  },
  {
   "cell_type": "code",
   "execution_count": 124,
   "id": "c76b4ab0",
   "metadata": {},
   "outputs": [
    {
     "data": {
      "text/plain": [
       "<sklearn.metrics._plot.roc_curve.RocCurveDisplay at 0x1d75afbd970>"
      ]
     },
     "execution_count": 124,
     "metadata": {},
     "output_type": "execute_result"
    },
    {
     "data": {
      "image/png": "[encoded data removed]",
      "text/plain": [
       "<Figure size 432x288 with 1 Axes>"
      ]
     },
     "metadata": {
      "needs_background": "light"
     },
     "output_type": "display_data"
    }
   ],
   "source": [
    "metrics.plot_roc_curve(dectree, X_test, y_test)"
   ]
  },
  {
   "cell_type": "code",
   "execution_count": 140,
   "id": "788e0925",
   "metadata": {},
   "outputs": [],
   "source": [
    "#use only vaginal data for decision tree\n",
    "#split features\n",
    "body_group = features.groupby('BodySite')\n",
    "body_group['BodySite'].value_counts()\n",
    "\n",
    "vaginal_swab = body_group.get_group(\"Vaginal_Swab\")[['Mean_OTU', 'unique_OTU']]\n",
    "stool_sample = body_group.get_group(\"Stool\")[['Mean_OTU', 'unique_OTU']]\n",
    "saliva_sample = body_group.get_group(\"Saliva\")[['Mean_OTU', 'unique_OTU']]"
   ]
  },
  {
   "cell_type": "code",
   "execution_count": 141,
   "id": "af410779",
   "metadata": {},
   "outputs": [],
   "source": [
    "#split labels\n",
    "body_label = labels.groupby('BodySite')\n",
    "\n",
    "vaginal_label = body_label.get_group(\"Vaginal_Swab\")\n",
    "stool_label = body_label.get_group(\"Stool\")\n",
    "saliva_label = body_label.get_group(\"Saliva\")"
   ]
  },
  {
   "cell_type": "code",
   "execution_count": 127,
   "id": "01dde831",
   "metadata": {},
   "outputs": [],
   "source": [
    "X_vagina = vaginal_swab\n",
    "y_vagina = vaginal_label['Preterm']\n",
    "X_vagina_train, X_vagina_test, y_vagina_train, y_vagina_test = train_test_split(X_vagina, y_vagina, test_size=0.20)"
   ]
  },
  {
   "cell_type": "code",
   "execution_count": 128,
   "id": "a089943d",
   "metadata": {},
   "outputs": [],
   "source": [
    "dectree2 = DecisionTreeClassifier(criterion='entropy',random_state=0, max_depth = 4)\n",
    "dectree2.fit(X_vagina_train,y_vagina_train.values.ravel())\n",
    "\n",
    "# Use the model to make predictions using our testing input data\n",
    "y_pred_dectree2 = dectree2.predict(X_vagina_test)"
   ]
  },
  {
   "cell_type": "code",
   "execution_count": 129,
   "id": "c5f68ebc",
   "metadata": {},
   "outputs": [],
   "source": [
    "dot_data = tree.export_graphviz(dectree2,out_file=None,feature_names=X_vagina.columns,class_names=['Not Preterm','Preterm'])\n",
    "graph = graphviz.Source(dot_data)\n",
    "graph.render(\"Decision_tree\",view=True)\n",
    "f = open(basedir + \"/figures/VaginalOTUtree.txt\",\"w+\")\n",
    "f.write(dot_data)\n",
    "f.close()"
   ]
  },
  {
   "cell_type": "code",
   "execution_count": 130,
   "id": "2a9a2840",
   "metadata": {},
   "outputs": [
    {
     "name": "stdout",
     "output_type": "stream",
     "text": [
      "Accuracy:  83.5820895522388\n"
     ]
    }
   ],
   "source": [
    "# Calculate the accuracy of the model as a percent\n",
    "accuracy = metrics.accuracy_score(y_vagina_test, y_pred_dectree2)\n",
    "accuracy_percentage = 100 * accuracy\n",
    "print('Accuracy: ',accuracy_percentage)"
   ]
  },
  {
   "cell_type": "code",
   "execution_count": 131,
   "id": "df1cdf40",
   "metadata": {},
   "outputs": [
    {
     "data": {
      "text/plain": [
       "<sklearn.metrics._plot.roc_curve.RocCurveDisplay at 0x1d75c1d67c0>"
      ]
     },
     "execution_count": 131,
     "metadata": {},
     "output_type": "execute_result"
    },
    {
     "data": {
      "image/png": "[encoded data removed]",
      "text/plain": [
       "<Figure size 432x288 with 1 Axes>"
      ]
     },
     "metadata": {
      "needs_background": "light"
     },
     "output_type": "display_data"
    }
   ],
   "source": [
    "metrics.plot_roc_curve(dectree2, X_vagina_test, y_vagina_test)"
   ]
  },
  {
   "cell_type": "code",
   "execution_count": 132,
   "id": "79bcae19",
   "metadata": {},
   "outputs": [
    {
     "data": {
      "text/html": [
       "<div>\n",
       "<style scoped>\n",
       "    .dataframe tbody tr th:only-of-type {\n",
       "        vertical-align: middle;\n",
       "    }\n",
       "\n",
       "    .dataframe tbody tr th {\n",
       "        vertical-align: top;\n",
       "    }\n",
       "\n",
       "    .dataframe thead th {\n",
       "        text-align: right;\n",
       "    }\n",
       "</style>\n",
       "<table border=\"1\" class=\"dataframe\">\n",
       "  <thead>\n",
       "    <tr style=\"text-align: right;\">\n",
       "      <th></th>\n",
       "      <th>SubjectID</th>\n",
       "      <th>#SampleID</th>\n",
       "      <th>BodySite</th>\n",
       "      <th>Preterm</th>\n",
       "    </tr>\n",
       "  </thead>\n",
       "  <tbody>\n",
       "    <tr>\n",
       "      <th>1</th>\n",
       "      <td>10005</td>\n",
       "      <td>1000501278</td>\n",
       "      <td>Vaginal_Swab</td>\n",
       "      <td>0</td>\n",
       "    </tr>\n",
       "    <tr>\n",
       "      <th>6</th>\n",
       "      <td>10003</td>\n",
       "      <td>1000301298</td>\n",
       "      <td>Vaginal_Swab</td>\n",
       "      <td>0</td>\n",
       "    </tr>\n",
       "    <tr>\n",
       "      <th>7</th>\n",
       "      <td>10003</td>\n",
       "      <td>1000301308</td>\n",
       "      <td>Vaginal_Swab</td>\n",
       "      <td>0</td>\n",
       "    </tr>\n",
       "    <tr>\n",
       "      <th>8</th>\n",
       "      <td>10003</td>\n",
       "      <td>1000301318</td>\n",
       "      <td>Vaginal_Swab</td>\n",
       "      <td>0</td>\n",
       "    </tr>\n",
       "    <tr>\n",
       "      <th>9</th>\n",
       "      <td>10004</td>\n",
       "      <td>1000401368</td>\n",
       "      <td>Vaginal_Swab</td>\n",
       "      <td>0</td>\n",
       "    </tr>\n",
       "    <tr>\n",
       "      <th>...</th>\n",
       "      <td>...</td>\n",
       "      <td>...</td>\n",
       "      <td>...</td>\n",
       "      <td>...</td>\n",
       "    </tr>\n",
       "    <tr>\n",
       "      <th>4396</th>\n",
       "      <td>10046</td>\n",
       "      <td>1004604448.rs</td>\n",
       "      <td>Tooth_Gum</td>\n",
       "      <td>0</td>\n",
       "    </tr>\n",
       "    <tr>\n",
       "      <th>4397</th>\n",
       "      <td>10101</td>\n",
       "      <td>1010104488.rs</td>\n",
       "      <td>Tooth_Gum</td>\n",
       "      <td>1</td>\n",
       "    </tr>\n",
       "    <tr>\n",
       "      <th>4398</th>\n",
       "      <td>10024</td>\n",
       "      <td>1002402218.ca2.rs</td>\n",
       "      <td>Stool</td>\n",
       "      <td>0</td>\n",
       "    </tr>\n",
       "    <tr>\n",
       "      <th>4399</th>\n",
       "      <td>10023</td>\n",
       "      <td>1002302248.bn1.rs</td>\n",
       "      <td>Stool</td>\n",
       "      <td>0</td>\n",
       "    </tr>\n",
       "    <tr>\n",
       "      <th>4400</th>\n",
       "      <td>10021</td>\n",
       "      <td>1002102208.ak2.rs</td>\n",
       "      <td>Stool</td>\n",
       "      <td>0</td>\n",
       "    </tr>\n",
       "  </tbody>\n",
       "</table>\n",
       "<p>3881 rows × 4 columns</p>\n",
       "</div>"
      ],
      "text/plain": [
       "      SubjectID          #SampleID      BodySite  Preterm\n",
       "1         10005         1000501278  Vaginal_Swab        0\n",
       "6         10003         1000301298  Vaginal_Swab        0\n",
       "7         10003         1000301308  Vaginal_Swab        0\n",
       "8         10003         1000301318  Vaginal_Swab        0\n",
       "9         10004         1000401368  Vaginal_Swab        0\n",
       "...         ...                ...           ...      ...\n",
       "4396      10046      1004604448.rs     Tooth_Gum        0\n",
       "4397      10101      1010104488.rs     Tooth_Gum        1\n",
       "4398      10024  1002402218.ca2.rs         Stool        0\n",
       "4399      10023  1002302248.bn1.rs         Stool        0\n",
       "4400      10021  1002102208.ak2.rs         Stool        0\n",
       "\n",
       "[3881 rows x 4 columns]"
      ]
     },
     "execution_count": 132,
     "metadata": {},
     "output_type": "execute_result"
    }
   ],
   "source": [
    "labels"
   ]
  },
  {
   "cell_type": "code",
   "execution_count": 133,
   "id": "e914cb95",
   "metadata": {},
   "outputs": [
    {
     "name": "stderr",
     "output_type": "stream",
     "text": [
      "C:\\Users\\Ale P\\Coding_AI4ALL\\lib\\site-packages\\seaborn\\_decorators.py:36: FutureWarning: Pass the following variable as a keyword arg: x. From version 0.12, the only valid positional argument will be `data`, and passing other arguments without an explicit keyword will result in an error or misinterpretation.\n",
      "  warnings.warn(\n"
     ]
    },
    {
     "data": {
      "text/plain": [
       "(array([0, 1]), [Text(0, 0, '0'), Text(1, 0, '1')])"
      ]
     },
     "execution_count": 133,
     "metadata": {},
     "output_type": "execute_result"
    },
    {
     "data": {
      "image/png": "[encoded data removed]",
      "text/plain": [
       "<Figure size 432x288 with 1 Axes>"
      ]
     },
     "metadata": {
      "needs_background": "light"
     },
     "output_type": "display_data"
    }
   ],
   "source": [
    "sns.countplot(labels['Preterm'])\n",
    "plt.xticks(rotation = 45, ha = 'right')"
   ]
  },
  {
   "cell_type": "code",
   "execution_count": 134,
   "id": "fa317cf9",
   "metadata": {},
   "outputs": [],
   "source": [
    "X_stool = stool_sample\n",
    "y_stool = stool_label['Preterm']\n",
    "X_stool_train, X_stool_test, y_stool_train, y_stool_test = train_test_split(X_stool, y_stool, test_size=0.20)"
   ]
  },
  {
   "cell_type": "code",
   "execution_count": 135,
   "id": "d820a6c0",
   "metadata": {},
   "outputs": [],
   "source": [
    "dectree3 = DecisionTreeClassifier(criterion='entropy',random_state=0, max_depth = 4)\n",
    "dectree3.fit(X_stool_train,y_stool_train.values.ravel())\n",
    "\n",
    "# Use the model to make predictions using our testing input data\n",
    "y_pred_dectree3 = dectree3.predict(X_stool_test)"
   ]
  },
  {
   "cell_type": "code",
   "execution_count": 136,
   "id": "99a6b151",
   "metadata": {},
   "outputs": [],
   "source": [
    "dot_data = tree.export_graphviz(dectree3,out_file=None,feature_names=X_stool.columns,class_names=['Not Preterm','Preterm'])\n",
    "graph = graphviz.Source(dot_data)\n",
    "graph.render(\"Stool_MeanOTU_Decision_tree\",view=True)\n",
    "f = open(basedir + \"/figures/StoolOTUtree.txt\",\"w+\")\n",
    "f.write(dot_data)\n",
    "f.close()"
   ]
  },
  {
   "cell_type": "code",
   "execution_count": 137,
   "id": "ebdccaef",
   "metadata": {},
   "outputs": [
    {
     "name": "stdout",
     "output_type": "stream",
     "text": [
      "Accuracy:  92.3076923076923\n"
     ]
    }
   ],
   "source": [
    "# Calculate the accuracy of the model as a percent\n",
    "accuracy = metrics.accuracy_score(y_stool_test, y_pred_dectree3)\n",
    "accuracy_percentage = 100 * accuracy\n",
    "print('Accuracy: ',accuracy_percentage)"
   ]
  },
  {
   "cell_type": "code",
   "execution_count": 138,
   "id": "8baf7005",
   "metadata": {},
   "outputs": [
    {
     "data": {
      "text/plain": [
       "<sklearn.metrics._plot.roc_curve.RocCurveDisplay at 0x1d75c2d9fa0>"
      ]
     },
     "execution_count": 138,
     "metadata": {},
     "output_type": "execute_result"
    },
    {
     "data": {
      "image/png": "[encoded data removed]",
      "text/plain": [
       "<Figure size 432x288 with 1 Axes>"
      ]
     },
     "metadata": {
      "needs_background": "light"
     },
     "output_type": "display_data"
    }
   ],
   "source": [
    "metrics.plot_roc_curve(dectree3, X_stool_test, y_stool_test)"
   ]
  },
  {
   "cell_type": "code",
   "execution_count": 142,
   "id": "509b98f9",
   "metadata": {},
   "outputs": [],
   "source": [
    "X_saliva = saliva_sample\n",
    "y_saliva = saliva_label['Preterm']\n",
    "X_saliva_train, X_saliva_test, y_saliva_train, y_saliva_test = train_test_split(X_saliva, y_saliva, test_size=0.20)"
   ]
  },
  {
   "cell_type": "code",
   "execution_count": 143,
   "id": "1678ade1",
   "metadata": {},
   "outputs": [],
   "source": [
    "dectree4 = DecisionTreeClassifier(criterion='entropy',random_state=0, max_depth = 4)\n",
    "dectree4.fit(X_saliva_train,y_saliva_train.values.ravel())\n",
    "\n",
    "# Use the model to make predictions using our testing input data\n",
    "y_pred_dectree4 = dectree4.predict(X_saliva_test)"
   ]
  },
  {
   "cell_type": "code",
   "execution_count": 144,
   "id": "cf82e4e1",
   "metadata": {},
   "outputs": [],
   "source": [
    "dot_data = tree.export_graphviz(dectree4,out_file=None,feature_names=X_saliva.columns,class_names=['Not Preterm','Preterm'])\n",
    "graph = graphviz.Source(dot_data)\n",
    "graph.render(\"Saliva_MeanOTU_Decision_tree\",view=True)\n",
    "f = open(basedir + \"/figures/SalivalOTUtree.txt\",\"w+\")\n",
    "f.write(dot_data)\n",
    "f.close()"
   ]
  },
  {
   "cell_type": "code",
   "execution_count": 145,
   "id": "c6546f14",
   "metadata": {},
   "outputs": [
    {
     "name": "stdout",
     "output_type": "stream",
     "text": [
      "Accuracy:  86.5\n"
     ]
    }
   ],
   "source": [
    "# Calculate the accuracy of the model as a percent\n",
    "accuracy = metrics.accuracy_score(y_saliva_test, y_pred_dectree4)\n",
    "accuracy_percentage = 100 * accuracy\n",
    "print('Accuracy: ',accuracy_percentage)"
   ]
  },
  {
   "cell_type": "code",
   "execution_count": 146,
   "id": "ba2f7dd0",
   "metadata": {},
   "outputs": [
    {
     "data": {
      "text/plain": [
       "<sklearn.metrics._plot.roc_curve.RocCurveDisplay at 0x1d75c32d9a0>"
      ]
     },
     "execution_count": 146,
     "metadata": {},
     "output_type": "execute_result"
    },
    {
     "data": {
      "image/png": "[encoded data removed]",
      "text/plain": [
       "<Figure size 432x288 with 1 Axes>"
      ]
     },
     "metadata": {
      "needs_background": "light"
     },
     "output_type": "display_data"
    }
   ],
   "source": [
    "metrics.plot_roc_curve(dectree4, X_saliva_test, y_saliva_test)"
   ]
  }
 ],
 "metadata": {
  "kernelspec": {
   "display_name": "Python 3 (ipykernel)",
   "language": "python",
   "name": "python3"
  },
  "language_info": {
   "codemirror_mode": {
    "name": "ipython",
    "version": 3
   },
   "file_extension": ".py",
   "mimetype": "text/x-python",
   "name": "python",
   "nbconvert_exporter": "python",
   "pygments_lexer": "ipython3",
   "version": "3.9.1"
  }
 },
 "nbformat": 4,
 "nbformat_minor": 5
}
